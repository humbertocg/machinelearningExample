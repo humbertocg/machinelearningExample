{
  "nbformat": 4,
  "nbformat_minor": 0,
  "metadata": {
    "colab": {
      "name": "mi primer red neuronal",
      "provenance": [],
      "authorship_tag": "ABX9TyPt9RPDa62As6meY0CneuLq",
      "include_colab_link": true
    },
    "kernelspec": {
      "name": "python3",
      "display_name": "Python 3"
    },
    "language_info": {
      "name": "python"
    }
  },
  "cells": [
    {
      "cell_type": "markdown",
      "metadata": {
        "id": "view-in-github",
        "colab_type": "text"
      },
      "source": [
        "<a href=\"https://colab.research.google.com/github/humbertocg/machinelearningExample/blob/main/mi_primer_red_neuronal.ipynb\" target=\"_parent\"><img src=\"https://colab.research.google.com/assets/colab-badge.svg\" alt=\"Open In Colab\"/></a>"
      ]
    },
    {
      "cell_type": "code",
      "metadata": {
        "colab": {
          "base_uri": "https://localhost:8080/",
          "height": 265
        },
        "id": "5cNjt5vELnjK",
        "outputId": "f13db180-04d1-4ff4-879f-e270b06b8bcd"
      },
      "source": [
        "import numpy as np\n",
        "import scipy as sc\n",
        "import matplotlib.pyplot as plt\n",
        "\n",
        "from sklearn.datasets import make_circles\n",
        "\n",
        "n = 500 # cantidad de datos\n",
        "p = 2 #caracteristicas\n",
        "\n",
        "#Crear dataset X entradas, salidas\n",
        "X, Y = make_circles(n_samples=n, factor=0.5, noise= 0.05)\n",
        "\n",
        "Y = Y[:, np.newaxis]\n",
        "\n",
        "#print(Y)\n",
        "plt.scatter(X[Y[:,0] == 0,0],X[Y[:,0] == 0,1], c='skyblue')\n",
        "plt.scatter(X[Y[:,0] == 1,0],X[Y[:,0] == 1,1], c='salmon')\n",
        "plt.axis(\"equal\")\n",
        "plt.show()"
      ],
      "execution_count": 27,
      "outputs": [
        {
          "output_type": "display_data",
          "data": {
            "image/png": "[encoded data removed]",
            "text/plain": [
              "<Figure size 432x288 with 1 Axes>"
            ]
          },
          "metadata": {
            "tags": [],
            "needs_background": "light"
          }
        }
      ]
    },
    {
      "cell_type": "code",
      "metadata": {
        "colab": {
          "base_uri": "https://localhost:8080/"
        },
        "id": "yQVup9ahKAGx",
        "outputId": "df092d48-9507-4565-88dc-064cde55adb3"
      },
      "source": [
        "Y.shape"
      ],
      "execution_count": 26,
      "outputs": [
        {
          "output_type": "execute_result",
          "data": {
            "text/plain": [
              "(500,)"
            ]
          },
          "metadata": {
            "tags": []
          },
          "execution_count": 26
        }
      ]
    },
    {
      "cell_type": "code",
      "metadata": {
        "id": "XvaP_W2ePqdj"
      },
      "source": [
        "# capa de la red\n",
        "class neural_layer():\n",
        "  def __init__(self, n_conn, n_neur, act_f):\n",
        "    self.act_f = act_f\n",
        "    self.b = np.random.rand(1, n_neur)      * 2 - 1\n",
        "    self.W = np.random.rand(n_conn, n_neur) * 2 - 1"
      ],
      "execution_count": 4,
      "outputs": []
    },
    {
      "cell_type": "code",
      "metadata": {
        "colab": {
          "base_uri": "https://localhost:8080/",
          "height": 282
        },
        "id": "M1mGvDxnRAt5",
        "outputId": "bf312c53-ee16-49c5-dba2-00dd6e5e509f"
      },
      "source": [
        "# funciones de activacion. seleccionado la sigmoide y su derivada\n",
        "sigm = (lambda x: 1/(1+ np.e**(-x)),\n",
        "        lambda x: x*(1-x))\n",
        "# funcion de relu\n",
        "relu = lambda x : np.maximum(0,x)\n",
        "\n",
        "_x = np.linspace(-5, 5, 100)\n",
        "plt.plot(_x, sigm[1](_x))"
      ],
      "execution_count": 5,
      "outputs": [
        {
          "output_type": "execute_result",
          "data": {
            "text/plain": [
              "[<matplotlib.lines.Line2D at 0x7fb8215c3710>]"
            ]
          },
          "metadata": {
            "tags": []
          },
          "execution_count": 5
        },
        {
          "output_type": "display_data",
          "data": {
            "image/png": "[encoded data removed]",
            "text/plain": [
              "<Figure size 432x288 with 1 Axes>"
            ]
          },
          "metadata": {
            "tags": [],
            "needs_background": "light"
          }
        }
      ]
    },
    {
      "cell_type": "code",
      "metadata": {
        "id": "CoomiFeAStr8"
      },
      "source": [
        "# numero de capas:\n",
        "def create_nn(topology, act_f):\n",
        "  nn = [] # neural network\n",
        "  for l, layer in enumerate(topology[:-1]):\n",
        "    nn.append(neural_layer(topology[l],topology[l+1], act_f))\n",
        "  return nn\n",
        "\n"
      ],
      "execution_count": 6,
      "outputs": []
    },
    {
      "cell_type": "code",
      "metadata": {
        "colab": {
          "base_uri": "https://localhost:8080/"
        },
        "id": "SbnyYii7THx_",
        "outputId": "c47ec2db-e9e3-4192-9b4f-eb08f66e9738"
      },
      "source": [
        "#training de la red neuronal\n",
        "topology = [p, 4, 8, 1]\n",
        "neural_net = create_nn(topology, sigm)\n",
        "\n",
        "l2_cost = (lambda Yp, Yr : np.mean((Yp - Yr)**2), #error cuadratico medio\n",
        "          lambda Yp, Yr : (Yp - Yr))             # derivada del error cuadratico medio\n",
        "\n",
        "def train(neural_net, X, Y, l2_cost, lr=0.5, train = True):  # learning rate\n",
        "  out =[(None,X)]\n",
        "  # forward pass\n",
        "  for l, layer in enumerate(neural_net):\n",
        "    z = out[-1][1] @ neural_net[l].W + neural_net[l].b #suma ponderada.   out[-1] es el ultimo registro del arreglo\n",
        "    a = neural_net[l].act_f[0](z) #activacion\n",
        "    out.append((z, a))\n",
        "\n",
        "  print(l2_cost[0](out[-1][1],Y))\n",
        "\n",
        "  if train:\n",
        "    # Backward pass\n",
        "    deltas = []\n",
        "    for l in reversed(range(0, len(neural_net))):\n",
        "\n",
        "      z= out[l+1][0]\n",
        "      a= out[l+1][1]\n",
        "\n",
        "      print(a.shape)\n",
        "\n",
        "      \n",
        "      if l == len(neural_net)- 1:\n",
        "        # calcular delta ultima capa\n",
        "        deltas.insert(0, l2_cost[1](a, Y)* neural_net[l].act_f[1](a)) # calcular delta 0\n",
        "      else:\n",
        "        # calcular delta respecto a capa previa\n",
        "        deltas.insert(0, deltas[0] @ _w.T  * neural_net[l].act_f[1](a)) # calcular delta 0\n",
        "\n",
        "      _w = neural_net[l].W\n",
        "\n",
        "      # Gradient descent derivadas parciales\n",
        "      neural_net[l].b = neural_net[l].b - np.mean(deltas[0], axis=0, keepdims=True) * lr\n",
        "      neural_net[l].W = neural_net[l].W - out[l][1].T @ deltas[0] * lr\n",
        "\n",
        "    return out[-1][1]\n",
        "\n",
        "\n",
        "train(neural_net, X, Y, l2_cost, 0.5)\n",
        "print(\"\")"
      ],
      "execution_count": 43,
      "outputs": [
        {
          "output_type": "stream",
          "text": [
            "0.26829619583306685\n",
            "(500, 1)\n",
            "(500, 8)\n",
            "(500, 4)\n",
            "\n"
          ],
          "name": "stdout"
        }
      ]
    },
    {
      "cell_type": "code",
      "metadata": {
        "colab": {
          "base_uri": "https://localhost:8080/",
          "height": 1000
        },
        "id": "DvCpN9ARMcnl",
        "outputId": "356ce26e-0808-46ca-87f0-92507403c434"
      },
      "source": [
        "import time\n",
        "from IPython.display import clear_output\n",
        "\n",
        "neural_n = create_nn(topology, sigm)\n",
        "\n",
        "loss = []\n",
        "\n",
        "for i in range(2000):\n",
        "  #Entrenar red\n",
        "  pY = train(neural_n, X, Y, l2_cost, lr=0.05)\n",
        "\n",
        "  if i% 25 ==0:\n",
        "    loss.append(l2_cost[0](pY, Y))\n",
        "\n",
        "    res =50# malla de 50 por 50\n",
        "\n",
        "    _x0 = np.linspace(-1.5, 1.5 , res)\n",
        "    _x1 = np.linspace(-1.5, 1.5 , res)\n",
        "\n",
        "    _Y = np.zeros((res,res))\n",
        "\n",
        "   # for i0, x0 in enumerate(_x0):\n",
        "   #   for i1, x1 in enumerate(_x1):\n",
        "   #     _Y[i0, i1] = train(neural_n, np.array([[x0, x1]]), Y, l2_cost, train= False)[0][0]\n",
        "\n",
        "   # plt.pcolormesh(_x0, _x1, _Y, cmap= \"coolwarm\")\n",
        "   # plt.axis(\"equal\")\n",
        "\n",
        "    plt.scatter(X[Y[:,0] == 0,0],X[Y[:,0] == 0,1], c='skyblue')\n",
        "    plt.scatter(X[Y[:,0] == 1,0],X[Y[:,0] == 1,1], c='salmon')\n",
        "\n",
        "    clear_output(wait= True)\n",
        "    plt.axis(\"equal\")\n",
        "    plt.show()\n",
        "    plt.plot(range(len(loss)),loss)\n",
        "    plt.show()\n",
        "    time.sleep(0.5)"
      ],
      "execution_count": 46,
      "outputs": [
        {
          "output_type": "display_data",
          "data": {
            "image/png": "[encoded data removed]",
            "text/plain": [
              "<Figure size 432x288 with 1 Axes>"
            ]
          },
          "metadata": {
            "tags": [],
            "needs_background": "light"
          }
        },
        {
          "output_type": "display_data",
          "data": {
            "image/png": "[encoded data removed]",
            "text/plain": [
              "<Figure size 432x288 with 1 Axes>"
            ]
          },
          "metadata": {
            "tags": [],
            "needs_background": "light"
          }
        },
        {
          "output_type": "stream",
          "text": [
            "0.0006530542645976824\n",
            "(500, 1)\n",
            "(500, 8)\n",
            "(500, 4)\n",
            "0.0006525344585626791\n",
            "(500, 1)\n",
            "(500, 8)\n",
            "(500, 4)\n",
            "0.0006520154641531727\n",
            "(500, 1)\n",
            "(500, 8)\n",
            "(500, 4)\n",
            "0.000651497279479214\n",
            "(500, 1)\n",
            "(500, 8)\n",
            "(500, 4)\n",
            "0.0006509799026566999\n",
            "(500, 1)\n",
            "(500, 8)\n",
            "(500, 4)\n",
            "0.0006504633318073547\n",
            "(500, 1)\n",
            "(500, 8)\n",
            "(500, 4)\n",
            "0.0006499475650587039\n",
            "(500, 1)\n",
            "(500, 8)\n",
            "(500, 4)\n",
            "0.0006494326005440554\n",
            "(500, 1)\n",
            "(500, 8)\n",
            "(500, 4)\n",
            "0.0006489184364024734\n",
            "(500, 1)\n",
            "(500, 8)\n",
            "(500, 4)\n",
            "0.0006484050707787604\n",
            "(500, 1)\n",
            "(500, 8)\n",
            "(500, 4)\n",
            "0.0006478925018234301\n",
            "(500, 1)\n",
            "(500, 8)\n",
            "(500, 4)\n",
            "0.0006473807276926923\n",
            "(500, 1)\n",
            "(500, 8)\n",
            "(500, 4)\n",
            "0.0006468697465484235\n",
            "(500, 1)\n",
            "(500, 8)\n",
            "(500, 4)\n",
            "0.0006463595565581512\n",
            "(500, 1)\n",
            "(500, 8)\n",
            "(500, 4)\n",
            "0.0006458501558950295\n",
            "(500, 1)\n",
            "(500, 8)\n",
            "(500, 4)\n",
            "0.0006453415427378161\n",
            "(500, 1)\n",
            "(500, 8)\n",
            "(500, 4)\n",
            "0.0006448337152708552\n",
            "(500, 1)\n",
            "(500, 8)\n",
            "(500, 4)\n",
            "0.0006443266716840521\n",
            "(500, 1)\n",
            "(500, 8)\n",
            "(500, 4)\n",
            "0.0006438204101728553\n",
            "(500, 1)\n",
            "(500, 8)\n",
            "(500, 4)\n",
            "0.0006433149289382311\n",
            "(500, 1)\n",
            "(500, 8)\n",
            "(500, 4)\n",
            "0.0006428102261866459\n",
            "(500, 1)\n",
            "(500, 8)\n",
            "(500, 4)\n",
            "0.000642306300130046\n",
            "(500, 1)\n",
            "(500, 8)\n",
            "(500, 4)\n",
            "0.0006418031489858336\n",
            "(500, 1)\n",
            "(500, 8)\n",
            "(500, 4)\n",
            "0.0006413007709768472\n",
            "(500, 1)\n",
            "(500, 8)\n",
            "(500, 4)\n"
          ],
          "name": "stdout"
        }
      ]
    }
  ]
}